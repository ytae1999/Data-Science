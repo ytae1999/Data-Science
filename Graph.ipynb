{
  "nbformat": 4,
  "nbformat_minor": 0,
  "metadata": {
    "colab": {
      "name": "Graph.ipynb",
      "version": "0.3.2",
      "provenance": [],
      "collapsed_sections": [],
      "include_colab_link": true
    },
    "kernelspec": {
      "name": "python3",
      "display_name": "Python 3"
    }
  },
  "cells": [
    {
      "cell_type": "markdown",
      "metadata": {
        "id": "view-in-github",
        "colab_type": "text"
      },
      "source": [
        "<a href=\"https://colab.research.google.com/github/ytae1999/Data-Science/blob/master/Graph.ipynb\" target=\"_parent\"><img src=\"https://colab.research.google.com/assets/colab-badge.svg\" alt=\"Open In Colab\"/></a>"
      ]
    },
    {
      "cell_type": "code",
      "metadata": {
        "id": "7Dw6qn-REh_0",
        "colab_type": "code",
        "colab": {
          "base_uri": "https://localhost:8080/",
          "height": 52
        },
        "outputId": "2054ce8e-978a-4ec8-dc55-c47a17fa8c77"
      },
      "source": [
        "class Node:\n",
        "  def __init__(self, data):\n",
        "    self.data = data\n",
        "    self.neighbors = []\n",
        "    self.visited = False\n",
        "    \n",
        "  def add_neighbor(self, neighbor):\n",
        "    self.neighbors.append(neighbor)\n",
        "\n",
        "  def set_visited(self, visited):\n",
        "    self.visited = visited\n",
        "\n",
        "  def get_data(self):\n",
        "    return self.data\n",
        "\n",
        "  def get_neighbors(self):\n",
        "    return self.neighbors\n",
        "\n",
        "  def get_visited(self):\n",
        "    return self.visited\n",
        "\n",
        "\n",
        "class Graph:\n",
        "  def __init__(self):\n",
        "    self.nodes = []\n",
        "\n",
        "  def add_node(self, node):\n",
        "    self.nodes.append(node)\n",
        "    \n",
        "  def bfs(self):\n",
        "    if len(self.nodes) > 0:\n",
        "      for node in self.nodes:\n",
        "        node.set_visited(False)\n",
        "      \n",
        "      queue = []\n",
        "      self.nodes[0].set_visited(True)\n",
        "      print(self.nodes[0].get_data(), end=\"\")\n",
        "      queue.append(self.nodes[0])\n",
        "      while len(queue) > 0:\n",
        "        current = queue.pop(0)\n",
        "        neighbors = current.get_neighbors()\n",
        "        for neighbor in neighbors:\n",
        "          if not neighbor.get_visited():\n",
        "            neighbor.set_visited(True)\n",
        "            print(\" - \" + neighbor.get_data(), end=\"\")\n",
        "            queue.append(neighbor)\n",
        "      print(\"\")\n",
        "      \n",
        "graph = Graph()\n",
        "\n",
        "node_A = Node('A')\n",
        "graph.add_node(node_A)\n",
        "node_B = Node('B')\n",
        "graph.add_node(node_B)\n",
        "node_C = Node('C')\n",
        "graph.add_node(node_C)\n",
        "node_D = Node('D')\n",
        "graph.add_node(node_D)\n",
        "node_E = Node('E')\n",
        "graph.add_node(node_E)\n",
        "node_F = Node('F')\n",
        "graph.add_node(node_F)\n",
        "node_G = Node('G')\n",
        "graph.add_node(node_G)\n",
        "node_H = Node('H')\n",
        "graph.add_node(node_H)\n",
        "node_S = Node('S')\n",
        "graph.add_node(node_S)\n",
        "\n",
        "node_A.add_neighbor(node_B)\n",
        "node_A.add_neighbor(node_S)\n",
        "\n",
        "node_B.add_neighbor(node_A)\n",
        "\n",
        "node_C.add_neighbor(node_D)\n",
        "node_C.add_neighbor(node_E)\n",
        "node_C.add_neighbor(node_F)\n",
        "node_C.add_neighbor(node_G)\n",
        "node_C.add_neighbor(node_S)\n",
        "\n",
        "node_D.add_neighbor(node_C)\n",
        "\n",
        "node_E.add_neighbor(node_C)\n",
        "node_E.add_neighbor(node_H)\n",
        "\n",
        "node_F.add_neighbor(node_C)\n",
        "node_F.add_neighbor(node_G)\n",
        "\n",
        "node_G.add_neighbor(node_F)\n",
        "node_G.add_neighbor(node_S)\n",
        "\n",
        "node_H.add_neighbor(node_E)\n",
        "node_H.add_neighbor(node_G)\n",
        "\n",
        "node_S.add_neighbor(node_A)\n",
        "node_S.add_neighbor(node_C)\n",
        "node_S.add_neighbor(node_G)\n",
        "\n",
        "print(\"[BFS result]\")\n",
        "graph.bfs()"
      ],
      "execution_count": 17,
      "outputs": [
        {
          "output_type": "stream",
          "text": [
            "[BFS result]\n",
            "A - B - S - C - G - D - E - F - H\n"
          ],
          "name": "stdout"
        }
      ]
    },
    {
      "cell_type": "code",
      "metadata": {
        "id": "z5no1VsP43Ve",
        "colab_type": "code",
        "colab": {}
      },
      "source": [
        ""
      ],
      "execution_count": 0,
      "outputs": []
    }
  ]
}