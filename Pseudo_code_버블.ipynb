{
  "nbformat": 4,
  "nbformat_minor": 0,
  "metadata": {
    "colab": {
      "name": "Pseudo code 버블",
      "version": "0.3.2",
      "provenance": [],
      "collapsed_sections": [],
      "include_colab_link": true
    },
    "kernelspec": {
      "name": "python3",
      "display_name": "Python 3"
    }
  },
  "cells": [
    {
      "cell_type": "markdown",
      "metadata": {
        "id": "view-in-github",
        "colab_type": "text"
      },
      "source": [
        "<a href=\"https://colab.research.google.com/github/ytae1999/Data-Science/blob/master/Pseudo_code_%EB%B2%84%EB%B8%94.ipynb\" target=\"_parent\"><img src=\"https://colab.research.google.com/assets/colab-badge.svg\" alt=\"Open In Colab\"/></a>"
      ]
    },
    {
      "cell_type": "code",
      "metadata": {
        "id": "Jn9C_c9khfl_",
        "colab_type": "code",
        "outputId": "a6637c02-101c-4ae9-e712-6fbd2c4669ca",
        "colab": {
          "base_uri": "https://localhost:8080/",
          "height": 34
        }
      },
      "source": [
        "def bubble_sort(array, n):\n",
        "  for i in range(1, n-1):\n",
        "    for j in range(1, n-i):\n",
        "      if array[j-1] > array[j]:\n",
        "        array[j-1], array[j] = array[j], array[j-1]\n",
        "        \n",
        "  return array\n",
        "\n",
        "array = [6, 5, 3, 1, 8, 7, 2, 4]\n",
        "array = bubble_sort(array, len(array)+1)\n",
        "print(array)"
      ],
      "execution_count": 14,
      "outputs": [
        {
          "output_type": "stream",
          "text": [
            "[1, 2, 3, 4, 5, 6, 7, 8]\n"
          ],
          "name": "stdout"
        }
      ]
    },
    {
      "cell_type": "code",
      "metadata": {
        "id": "3TtVFJ4c7kDY",
        "colab_type": "code",
        "colab": {}
      },
      "source": [
        ""
      ],
      "execution_count": 0,
      "outputs": []
    }
  ]
}