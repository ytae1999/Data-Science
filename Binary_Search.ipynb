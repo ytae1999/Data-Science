{
  "nbformat": 4,
  "nbformat_minor": 0,
  "metadata": {
    "colab": {
      "name": "Binary Search.ipynb",
      "version": "0.3.2",
      "provenance": [],
      "collapsed_sections": [],
      "include_colab_link": true
    },
    "kernelspec": {
      "name": "python3",
      "display_name": "Python 3"
    }
  },
  "cells": [
    {
      "cell_type": "markdown",
      "metadata": {
        "id": "view-in-github",
        "colab_type": "text"
      },
      "source": [
        "<a href=\"https://colab.research.google.com/github/ytae1999/Data-Science/blob/master/Binary_Search.ipynb\" target=\"_parent\"><img src=\"https://colab.research.google.com/assets/colab-badge.svg\" alt=\"Open In Colab\"/></a>"
      ]
    },
    {
      "metadata": {
        "id": "iHrI2Rr5RdP_",
        "colab_type": "code",
        "outputId": "cdcc54d0-a5e0-4571-a819-e0c9160f9a18",
        "colab": {
          "base_uri": "https://localhost:8080/",
          "height": 34
        }
      },
      "cell_type": "code",
      "source": [
        "def find(L, target, start, end):\n",
        "  \n",
        "  if start > end:\n",
        "    return -1\n",
        "  \n",
        "  mid = (start + end)//2\n",
        "  if L[mid] == target:\n",
        "    return mid\n",
        "  \n",
        "  if L[mid] > target:\n",
        "    return find(L, target, start, mid-1)\n",
        "  \n",
        "  else:\n",
        "    return find(L, target, mid+1, end)\n",
        "  \n",
        "\n",
        "L = [ ]\n",
        "L.append(5)\n",
        "L.append(8)\n",
        "L.append(10)\n",
        "L.append(15)\n",
        "L.append(20)\n",
        "L.append(25)\n",
        "L.append(30)\n",
        "L.append(40)\n",
        "L.append(50)\n",
        "L.append(54)\n",
        "L.append(66)\n",
        "L.append(69)\n",
        "L.append(83)\n",
        "L.append(86)\n",
        "L.append(90)\n",
        "\n",
        "index = find(L, 66, 0, len(L)-1)\n",
        "print(index)"
      ],
      "execution_count": 0,
      "outputs": [
        {
          "output_type": "stream",
          "text": [
            "10\n"
          ],
          "name": "stdout"
        }
      ]
    },
    {
      "metadata": {
        "id": "rbhxfR_JY1tm",
        "colab_type": "code",
        "outputId": "0dc3ac53-1922-4907-e3d0-c01159dd5fab",
        "colab": {
          "base_uri": "https://localhost:8080/",
          "height": 34
        }
      },
      "cell_type": "code",
      "source": [
        "def find(L, target, start, end):\n",
        "  \n",
        "  if start > end:\n",
        "    return -1\n",
        "  \n",
        "  mid = (start + end)//2\n",
        "  if L[mid] == target:\n",
        "    return mid\n",
        "  \n",
        "  if L[mid] > target:\n",
        "    return find(L, target, start, mid-1)\n",
        "  \n",
        "  else:\n",
        "    return find(L, target, mid+1, end)\n",
        "  \n",
        "\n",
        "L = [ ]\n",
        "L.append(5)\n",
        "L.append(8)\n",
        "L.append(10)\n",
        "L.append(15)\n",
        "L.append(20)\n",
        "L.append(25)\n",
        "L.append(30)\n",
        "L.append(40)\n",
        "L.append(50)\n",
        "L.append(54)\n",
        "L.append(66)\n",
        "L.append(69)\n",
        "L.append(83)\n",
        "L.append(86)\n",
        "L.append(90)\n",
        "\n",
        "index = find(L, 67, 0, len(L)-1)\n",
        "print(index)"
      ],
      "execution_count": 0,
      "outputs": [
        {
          "output_type": "stream",
          "text": [
            "-1\n"
          ],
          "name": "stdout"
        }
      ]
    }
  ]
}