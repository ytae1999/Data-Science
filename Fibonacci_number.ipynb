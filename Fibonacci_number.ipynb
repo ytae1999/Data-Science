{
  "nbformat": 4,
  "nbformat_minor": 0,
  "metadata": {
    "colab": {
      "name": "Fibonacci number",
      "version": "0.3.2",
      "provenance": [],
      "include_colab_link": true
    },
    "kernelspec": {
      "name": "python3",
      "display_name": "Python 3"
    }
  },
  "cells": [
    {
      "cell_type": "markdown",
      "metadata": {
        "id": "view-in-github",
        "colab_type": "text"
      },
      "source": [
        "<a href=\"https://colab.research.google.com/github/ytae1999/Data-Science/blob/master/Fibonacci_number.ipynb\" target=\"_parent\"><img src=\"https://colab.research.google.com/assets/colab-badge.svg\" alt=\"Open In Colab\"/></a>"
      ]
    },
    {
      "cell_type": "code",
      "metadata": {
        "id": "sSvQ6CDkHXoS",
        "colab_type": "code",
        "outputId": "bdf8229e-4b8b-4a1d-e0fb-dde01581fd87",
        "colab": {
          "base_uri": "https://localhost:8080/",
          "height": 34
        }
      },
      "source": [
        "def fib(n):\n",
        "  if n<3:\n",
        "    return 1\n",
        "  else:\n",
        "    return (fib(n-1) + fib(n-2))\n",
        "\n",
        "fib(10)\n",
        "  "
      ],
      "execution_count": 0,
      "outputs": [
        {
          "output_type": "execute_result",
          "data": {
            "text/plain": [
              "55"
            ]
          },
          "metadata": {
            "tags": []
          },
          "execution_count": 16
        }
      ]
    },
    {
      "cell_type": "code",
      "metadata": {
        "id": "Uao68ZiHICmh",
        "colab_type": "code",
        "outputId": "dc7ee1ea-2093-441e-d5b0-4719d0ff08e5",
        "colab": {
          "base_uri": "https://localhost:8080/",
          "height": 34
        }
      },
      "source": [
        "def new_fib(n):\n",
        "  if n < 3:\n",
        "    return 1\n",
        "  else:\n",
        "    prev_prev = 1\n",
        "    prev = 1\n",
        "    for i in range(3, n+1):\n",
        "      new = prev + prev_prev\n",
        "      prev_prev = prev\n",
        "      prev = new\n",
        "    return new\n",
        "\n",
        "new_fib(10)"
      ],
      "execution_count": 0,
      "outputs": [
        {
          "output_type": "execute_result",
          "data": {
            "text/plain": [
              "55"
            ]
          },
          "metadata": {
            "tags": []
          },
          "execution_count": 22
        }
      ]
    }
  ]
}